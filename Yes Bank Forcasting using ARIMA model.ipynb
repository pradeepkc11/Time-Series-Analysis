{
 "cells": [
  {
   "cell_type": "code",
   "execution_count": 1,
   "metadata": {},
   "outputs": [],
   "source": [
    "import pandas as pd\n",
    "from datetime import datetime\n",
    "import matplotlib.pyplot as plt\n",
    "%matplotlib inline"
   ]
  },
  {
   "cell_type": "code",
   "execution_count": 2,
   "metadata": {},
   "outputs": [],
   "source": [
    "df=pd.read_csv(\"yes bank.csv\")"
   ]
  },
  {
   "cell_type": "code",
   "execution_count": 3,
   "metadata": {},
   "outputs": [
    {
     "data": {
      "text/html": [
       "<div>\n",
       "<style scoped>\n",
       "    .dataframe tbody tr th:only-of-type {\n",
       "        vertical-align: middle;\n",
       "    }\n",
       "\n",
       "    .dataframe tbody tr th {\n",
       "        vertical-align: top;\n",
       "    }\n",
       "\n",
       "    .dataframe thead th {\n",
       "        text-align: right;\n",
       "    }\n",
       "</style>\n",
       "<table border=\"1\" class=\"dataframe\">\n",
       "  <thead>\n",
       "    <tr style=\"text-align: right;\">\n",
       "      <th></th>\n",
       "      <th>Symbol</th>\n",
       "      <th>Series</th>\n",
       "      <th>Date</th>\n",
       "      <th>Prev Close</th>\n",
       "      <th>Open Price</th>\n",
       "      <th>High Price</th>\n",
       "      <th>Low Price</th>\n",
       "      <th>Last Price</th>\n",
       "      <th>Close Price</th>\n",
       "      <th>VWAP</th>\n",
       "      <th>Total Traded</th>\n",
       "      <th>Turnover</th>\n",
       "      <th>No. of</th>\n",
       "      <th>Deliverable</th>\n",
       "      <th>% Dly Qt to</th>\n",
       "    </tr>\n",
       "  </thead>\n",
       "  <tbody>\n",
       "    <tr>\n",
       "      <td>0</td>\n",
       "      <td>NaN</td>\n",
       "      <td>NaN</td>\n",
       "      <td>NaN</td>\n",
       "      <td>NaN</td>\n",
       "      <td>NaN</td>\n",
       "      <td>NaN</td>\n",
       "      <td>NaN</td>\n",
       "      <td>NaN</td>\n",
       "      <td>NaN</td>\n",
       "      <td>NaN</td>\n",
       "      <td>Quantity</td>\n",
       "      <td>NaN</td>\n",
       "      <td>Trades</td>\n",
       "      <td>Qty</td>\n",
       "      <td>Traded Qty</td>\n",
       "    </tr>\n",
       "    <tr>\n",
       "      <td>1</td>\n",
       "      <td>YESBANK</td>\n",
       "      <td>EQ</td>\n",
       "      <td>13-Mar-19</td>\n",
       "      <td>235.85</td>\n",
       "      <td>236.0</td>\n",
       "      <td>247.60</td>\n",
       "      <td>232.70</td>\n",
       "      <td>244.25</td>\n",
       "      <td>244.30</td>\n",
       "      <td>242.07</td>\n",
       "      <td>5,88,83,298</td>\n",
       "      <td>14,25,41,19,799.40</td>\n",
       "      <td>3,07,346</td>\n",
       "      <td>1,10,98,533</td>\n",
       "      <td>18.85</td>\n",
       "    </tr>\n",
       "    <tr>\n",
       "      <td>2</td>\n",
       "      <td>YESBANK</td>\n",
       "      <td>EQ</td>\n",
       "      <td>14-Mar-19</td>\n",
       "      <td>244.30</td>\n",
       "      <td>248.0</td>\n",
       "      <td>254.00</td>\n",
       "      <td>246.15</td>\n",
       "      <td>250.15</td>\n",
       "      <td>249.85</td>\n",
       "      <td>250.85</td>\n",
       "      <td>5,96,84,202</td>\n",
       "      <td>14,97,17,75,478.60</td>\n",
       "      <td>3,30,601</td>\n",
       "      <td>1,05,93,357</td>\n",
       "      <td>17.75</td>\n",
       "    </tr>\n",
       "    <tr>\n",
       "      <td>3</td>\n",
       "      <td>YESBANK</td>\n",
       "      <td>EQ</td>\n",
       "      <td>15-Mar-19</td>\n",
       "      <td>249.85</td>\n",
       "      <td>251.7</td>\n",
       "      <td>252.80</td>\n",
       "      <td>243.50</td>\n",
       "      <td>245.05</td>\n",
       "      <td>245.05</td>\n",
       "      <td>247.39</td>\n",
       "      <td>3,87,15,468</td>\n",
       "      <td>9,57,79,21,922.20</td>\n",
       "      <td>2,06,568</td>\n",
       "      <td>1,07,90,762</td>\n",
       "      <td>27.87</td>\n",
       "    </tr>\n",
       "    <tr>\n",
       "      <td>4</td>\n",
       "      <td>YESBANK</td>\n",
       "      <td>EQ</td>\n",
       "      <td>18-Mar-19</td>\n",
       "      <td>245.05</td>\n",
       "      <td>247.0</td>\n",
       "      <td>248.55</td>\n",
       "      <td>241.80</td>\n",
       "      <td>246.80</td>\n",
       "      <td>245.95</td>\n",
       "      <td>245.24</td>\n",
       "      <td>2,48,25,632</td>\n",
       "      <td>6,08,82,15,385.80</td>\n",
       "      <td>1,37,716</td>\n",
       "      <td>47,52,203</td>\n",
       "      <td>19.14</td>\n",
       "    </tr>\n",
       "  </tbody>\n",
       "</table>\n",
       "</div>"
      ],
      "text/plain": [
       "    Symbol Series       Date  Prev Close  Open Price  High Price  Low Price  \\\n",
       "0      NaN    NaN        NaN         NaN         NaN         NaN        NaN   \n",
       "1  YESBANK     EQ  13-Mar-19      235.85       236.0      247.60     232.70   \n",
       "2  YESBANK     EQ  14-Mar-19      244.30       248.0      254.00     246.15   \n",
       "3  YESBANK     EQ  15-Mar-19      249.85       251.7      252.80     243.50   \n",
       "4  YESBANK     EQ  18-Mar-19      245.05       247.0      248.55     241.80   \n",
       "\n",
       "   Last Price  Close Price    VWAP Total Traded            Turnover    No. of  \\\n",
       "0         NaN          NaN     NaN     Quantity                 NaN    Trades   \n",
       "1      244.25       244.30  242.07  5,88,83,298  14,25,41,19,799.40  3,07,346   \n",
       "2      250.15       249.85  250.85  5,96,84,202  14,97,17,75,478.60  3,30,601   \n",
       "3      245.05       245.05  247.39  3,87,15,468   9,57,79,21,922.20  2,06,568   \n",
       "4      246.80       245.95  245.24  2,48,25,632   6,08,82,15,385.80  1,37,716   \n",
       "\n",
       "   Deliverable % Dly Qt to  \n",
       "0          Qty  Traded Qty  \n",
       "1  1,10,98,533       18.85  \n",
       "2  1,05,93,357       17.75  \n",
       "3  1,07,90,762       27.87  \n",
       "4    47,52,203       19.14  "
      ]
     },
     "execution_count": 3,
     "metadata": {},
     "output_type": "execute_result"
    }
   ],
   "source": [
    "df.head()"
   ]
  },
  {
   "cell_type": "code",
   "execution_count": 4,
   "metadata": {},
   "outputs": [
    {
     "data": {
      "text/plain": [
       "Symbol          1\n",
       "Series          1\n",
       "Date            1\n",
       "Prev Close      1\n",
       "Open Price      1\n",
       "High Price      1\n",
       "Low Price       1\n",
       "Last Price      1\n",
       "Close Price     1\n",
       "VWAP            1\n",
       "Total Traded    0\n",
       "Turnover        1\n",
       "No. of          0\n",
       "Deliverable     0\n",
       "% Dly Qt to     0\n",
       "dtype: int64"
      ]
     },
     "execution_count": 4,
     "metadata": {},
     "output_type": "execute_result"
    }
   ],
   "source": [
    "df.isnull().sum()"
   ]
  },
  {
   "cell_type": "code",
   "execution_count": 5,
   "metadata": {},
   "outputs": [],
   "source": [
    "df.dropna(inplace=True)"
   ]
  },
  {
   "cell_type": "code",
   "execution_count": 6,
   "metadata": {},
   "outputs": [],
   "source": [
    "df[\"Date\"]=pd.to_datetime(df[\"Date\"],format=\"%d-%b-%y\")"
   ]
  },
  {
   "cell_type": "code",
   "execution_count": 7,
   "metadata": {},
   "outputs": [],
   "source": [
    "df_ar=df.copy()"
   ]
  },
  {
   "cell_type": "code",
   "execution_count": 8,
   "metadata": {},
   "outputs": [
    {
     "data": {
      "text/html": [
       "<div>\n",
       "<style scoped>\n",
       "    .dataframe tbody tr th:only-of-type {\n",
       "        vertical-align: middle;\n",
       "    }\n",
       "\n",
       "    .dataframe tbody tr th {\n",
       "        vertical-align: top;\n",
       "    }\n",
       "\n",
       "    .dataframe thead th {\n",
       "        text-align: right;\n",
       "    }\n",
       "</style>\n",
       "<table border=\"1\" class=\"dataframe\">\n",
       "  <thead>\n",
       "    <tr style=\"text-align: right;\">\n",
       "      <th></th>\n",
       "      <th>Symbol</th>\n",
       "      <th>Series</th>\n",
       "      <th>Date</th>\n",
       "      <th>Prev Close</th>\n",
       "      <th>Open Price</th>\n",
       "      <th>High Price</th>\n",
       "      <th>Low Price</th>\n",
       "      <th>Last Price</th>\n",
       "      <th>Close Price</th>\n",
       "      <th>VWAP</th>\n",
       "      <th>Total Traded</th>\n",
       "      <th>Turnover</th>\n",
       "      <th>No. of</th>\n",
       "      <th>Deliverable</th>\n",
       "      <th>% Dly Qt to</th>\n",
       "    </tr>\n",
       "  </thead>\n",
       "  <tbody>\n",
       "    <tr>\n",
       "      <td>1</td>\n",
       "      <td>YESBANK</td>\n",
       "      <td>EQ</td>\n",
       "      <td>2019-03-13</td>\n",
       "      <td>235.85</td>\n",
       "      <td>236.00</td>\n",
       "      <td>247.60</td>\n",
       "      <td>232.70</td>\n",
       "      <td>244.25</td>\n",
       "      <td>244.30</td>\n",
       "      <td>242.07</td>\n",
       "      <td>5,88,83,298</td>\n",
       "      <td>14,25,41,19,799.40</td>\n",
       "      <td>3,07,346</td>\n",
       "      <td>1,10,98,533</td>\n",
       "      <td>18.85</td>\n",
       "    </tr>\n",
       "    <tr>\n",
       "      <td>2</td>\n",
       "      <td>YESBANK</td>\n",
       "      <td>EQ</td>\n",
       "      <td>2019-03-14</td>\n",
       "      <td>244.30</td>\n",
       "      <td>248.00</td>\n",
       "      <td>254.00</td>\n",
       "      <td>246.15</td>\n",
       "      <td>250.15</td>\n",
       "      <td>249.85</td>\n",
       "      <td>250.85</td>\n",
       "      <td>5,96,84,202</td>\n",
       "      <td>14,97,17,75,478.60</td>\n",
       "      <td>3,30,601</td>\n",
       "      <td>1,05,93,357</td>\n",
       "      <td>17.75</td>\n",
       "    </tr>\n",
       "    <tr>\n",
       "      <td>3</td>\n",
       "      <td>YESBANK</td>\n",
       "      <td>EQ</td>\n",
       "      <td>2019-03-15</td>\n",
       "      <td>249.85</td>\n",
       "      <td>251.70</td>\n",
       "      <td>252.80</td>\n",
       "      <td>243.50</td>\n",
       "      <td>245.05</td>\n",
       "      <td>245.05</td>\n",
       "      <td>247.39</td>\n",
       "      <td>3,87,15,468</td>\n",
       "      <td>9,57,79,21,922.20</td>\n",
       "      <td>2,06,568</td>\n",
       "      <td>1,07,90,762</td>\n",
       "      <td>27.87</td>\n",
       "    </tr>\n",
       "    <tr>\n",
       "      <td>4</td>\n",
       "      <td>YESBANK</td>\n",
       "      <td>EQ</td>\n",
       "      <td>2019-03-18</td>\n",
       "      <td>245.05</td>\n",
       "      <td>247.00</td>\n",
       "      <td>248.55</td>\n",
       "      <td>241.80</td>\n",
       "      <td>246.80</td>\n",
       "      <td>245.95</td>\n",
       "      <td>245.24</td>\n",
       "      <td>2,48,25,632</td>\n",
       "      <td>6,08,82,15,385.80</td>\n",
       "      <td>1,37,716</td>\n",
       "      <td>47,52,203</td>\n",
       "      <td>19.14</td>\n",
       "    </tr>\n",
       "    <tr>\n",
       "      <td>5</td>\n",
       "      <td>YESBANK</td>\n",
       "      <td>EQ</td>\n",
       "      <td>2019-03-19</td>\n",
       "      <td>245.95</td>\n",
       "      <td>246.65</td>\n",
       "      <td>250.50</td>\n",
       "      <td>245.00</td>\n",
       "      <td>249.35</td>\n",
       "      <td>248.80</td>\n",
       "      <td>248.34</td>\n",
       "      <td>2,14,48,040</td>\n",
       "      <td>5,32,63,20,590.75</td>\n",
       "      <td>1,44,647</td>\n",
       "      <td>46,21,743</td>\n",
       "      <td>21.55</td>\n",
       "    </tr>\n",
       "  </tbody>\n",
       "</table>\n",
       "</div>"
      ],
      "text/plain": [
       "    Symbol Series       Date  Prev Close  Open Price  High Price  Low Price  \\\n",
       "1  YESBANK     EQ 2019-03-13      235.85      236.00      247.60     232.70   \n",
       "2  YESBANK     EQ 2019-03-14      244.30      248.00      254.00     246.15   \n",
       "3  YESBANK     EQ 2019-03-15      249.85      251.70      252.80     243.50   \n",
       "4  YESBANK     EQ 2019-03-18      245.05      247.00      248.55     241.80   \n",
       "5  YESBANK     EQ 2019-03-19      245.95      246.65      250.50     245.00   \n",
       "\n",
       "   Last Price  Close Price    VWAP Total Traded            Turnover    No. of  \\\n",
       "1      244.25       244.30  242.07  5,88,83,298  14,25,41,19,799.40  3,07,346   \n",
       "2      250.15       249.85  250.85  5,96,84,202  14,97,17,75,478.60  3,30,601   \n",
       "3      245.05       245.05  247.39  3,87,15,468   9,57,79,21,922.20  2,06,568   \n",
       "4      246.80       245.95  245.24  2,48,25,632   6,08,82,15,385.80  1,37,716   \n",
       "5      249.35       248.80  248.34  2,14,48,040   5,32,63,20,590.75  1,44,647   \n",
       "\n",
       "   Deliverable % Dly Qt to  \n",
       "1  1,10,98,533       18.85  \n",
       "2  1,05,93,357       17.75  \n",
       "3  1,07,90,762       27.87  \n",
       "4    47,52,203       19.14  \n",
       "5    46,21,743       21.55  "
      ]
     },
     "execution_count": 8,
     "metadata": {},
     "output_type": "execute_result"
    }
   ],
   "source": [
    "df_ar.head()"
   ]
  },
  {
   "cell_type": "code",
   "execution_count": 9,
   "metadata": {},
   "outputs": [],
   "source": [
    "df_ar.drop([\"Symbol\",\"Series\",\"Prev Close\",\"Open Price\",\"High Price\",\"Low Price\",\"VWAP\",\"Turnover\",\"No. of\",\"Deliverable\"],axis=1,inplace=True)"
   ]
  },
  {
   "cell_type": "code",
   "execution_count": 10,
   "metadata": {},
   "outputs": [
    {
     "data": {
      "text/html": [
       "<div>\n",
       "<style scoped>\n",
       "    .dataframe tbody tr th:only-of-type {\n",
       "        vertical-align: middle;\n",
       "    }\n",
       "\n",
       "    .dataframe tbody tr th {\n",
       "        vertical-align: top;\n",
       "    }\n",
       "\n",
       "    .dataframe thead th {\n",
       "        text-align: right;\n",
       "    }\n",
       "</style>\n",
       "<table border=\"1\" class=\"dataframe\">\n",
       "  <thead>\n",
       "    <tr style=\"text-align: right;\">\n",
       "      <th></th>\n",
       "      <th>Date</th>\n",
       "      <th>Last Price</th>\n",
       "      <th>Close Price</th>\n",
       "      <th>Total Traded</th>\n",
       "      <th>% Dly Qt to</th>\n",
       "    </tr>\n",
       "  </thead>\n",
       "  <tbody>\n",
       "    <tr>\n",
       "      <td>1</td>\n",
       "      <td>2019-03-13</td>\n",
       "      <td>244.25</td>\n",
       "      <td>244.30</td>\n",
       "      <td>5,88,83,298</td>\n",
       "      <td>18.85</td>\n",
       "    </tr>\n",
       "    <tr>\n",
       "      <td>2</td>\n",
       "      <td>2019-03-14</td>\n",
       "      <td>250.15</td>\n",
       "      <td>249.85</td>\n",
       "      <td>5,96,84,202</td>\n",
       "      <td>17.75</td>\n",
       "    </tr>\n",
       "    <tr>\n",
       "      <td>3</td>\n",
       "      <td>2019-03-15</td>\n",
       "      <td>245.05</td>\n",
       "      <td>245.05</td>\n",
       "      <td>3,87,15,468</td>\n",
       "      <td>27.87</td>\n",
       "    </tr>\n",
       "    <tr>\n",
       "      <td>4</td>\n",
       "      <td>2019-03-18</td>\n",
       "      <td>246.80</td>\n",
       "      <td>245.95</td>\n",
       "      <td>2,48,25,632</td>\n",
       "      <td>19.14</td>\n",
       "    </tr>\n",
       "    <tr>\n",
       "      <td>5</td>\n",
       "      <td>2019-03-19</td>\n",
       "      <td>249.35</td>\n",
       "      <td>248.80</td>\n",
       "      <td>2,14,48,040</td>\n",
       "      <td>21.55</td>\n",
       "    </tr>\n",
       "  </tbody>\n",
       "</table>\n",
       "</div>"
      ],
      "text/plain": [
       "        Date  Last Price  Close Price Total Traded % Dly Qt to\n",
       "1 2019-03-13      244.25       244.30  5,88,83,298       18.85\n",
       "2 2019-03-14      250.15       249.85  5,96,84,202       17.75\n",
       "3 2019-03-15      245.05       245.05  3,87,15,468       27.87\n",
       "4 2019-03-18      246.80       245.95  2,48,25,632       19.14\n",
       "5 2019-03-19      249.35       248.80  2,14,48,040       21.55"
      ]
     },
     "execution_count": 10,
     "metadata": {},
     "output_type": "execute_result"
    }
   ],
   "source": [
    "df_ar.head()"
   ]
  },
  {
   "cell_type": "code",
   "execution_count": 11,
   "metadata": {},
   "outputs": [
    {
     "data": {
      "text/plain": [
       "Index(['Date', 'Last Price', 'Close Price', 'Total Traded', '% Dly Qt to'], dtype='object')"
      ]
     },
     "execution_count": 11,
     "metadata": {},
     "output_type": "execute_result"
    }
   ],
   "source": [
    "df_ar.columns"
   ]
  },
  {
   "cell_type": "code",
   "execution_count": 12,
   "metadata": {},
   "outputs": [],
   "source": [
    "col=[\"Date\",\"last\",\"close\",\"total\",\"qt\"]"
   ]
  },
  {
   "cell_type": "code",
   "execution_count": 13,
   "metadata": {},
   "outputs": [],
   "source": [
    "df_ar.columns=col"
   ]
  },
  {
   "cell_type": "code",
   "execution_count": 14,
   "metadata": {},
   "outputs": [
    {
     "data": {
      "text/html": [
       "<div>\n",
       "<style scoped>\n",
       "    .dataframe tbody tr th:only-of-type {\n",
       "        vertical-align: middle;\n",
       "    }\n",
       "\n",
       "    .dataframe tbody tr th {\n",
       "        vertical-align: top;\n",
       "    }\n",
       "\n",
       "    .dataframe thead th {\n",
       "        text-align: right;\n",
       "    }\n",
       "</style>\n",
       "<table border=\"1\" class=\"dataframe\">\n",
       "  <thead>\n",
       "    <tr style=\"text-align: right;\">\n",
       "      <th></th>\n",
       "      <th>Date</th>\n",
       "      <th>last</th>\n",
       "      <th>close</th>\n",
       "      <th>total</th>\n",
       "      <th>qt</th>\n",
       "    </tr>\n",
       "  </thead>\n",
       "  <tbody>\n",
       "    <tr>\n",
       "      <td>1</td>\n",
       "      <td>2019-03-13</td>\n",
       "      <td>244.25</td>\n",
       "      <td>244.30</td>\n",
       "      <td>5,88,83,298</td>\n",
       "      <td>18.85</td>\n",
       "    </tr>\n",
       "    <tr>\n",
       "      <td>2</td>\n",
       "      <td>2019-03-14</td>\n",
       "      <td>250.15</td>\n",
       "      <td>249.85</td>\n",
       "      <td>5,96,84,202</td>\n",
       "      <td>17.75</td>\n",
       "    </tr>\n",
       "    <tr>\n",
       "      <td>3</td>\n",
       "      <td>2019-03-15</td>\n",
       "      <td>245.05</td>\n",
       "      <td>245.05</td>\n",
       "      <td>3,87,15,468</td>\n",
       "      <td>27.87</td>\n",
       "    </tr>\n",
       "    <tr>\n",
       "      <td>4</td>\n",
       "      <td>2019-03-18</td>\n",
       "      <td>246.80</td>\n",
       "      <td>245.95</td>\n",
       "      <td>2,48,25,632</td>\n",
       "      <td>19.14</td>\n",
       "    </tr>\n",
       "    <tr>\n",
       "      <td>5</td>\n",
       "      <td>2019-03-19</td>\n",
       "      <td>249.35</td>\n",
       "      <td>248.80</td>\n",
       "      <td>2,14,48,040</td>\n",
       "      <td>21.55</td>\n",
       "    </tr>\n",
       "  </tbody>\n",
       "</table>\n",
       "</div>"
      ],
      "text/plain": [
       "        Date    last   close        total     qt\n",
       "1 2019-03-13  244.25  244.30  5,88,83,298  18.85\n",
       "2 2019-03-14  250.15  249.85  5,96,84,202  17.75\n",
       "3 2019-03-15  245.05  245.05  3,87,15,468  27.87\n",
       "4 2019-03-18  246.80  245.95  2,48,25,632  19.14\n",
       "5 2019-03-19  249.35  248.80  2,14,48,040  21.55"
      ]
     },
     "execution_count": 14,
     "metadata": {},
     "output_type": "execute_result"
    }
   ],
   "source": [
    "df_ar.head()"
   ]
  },
  {
   "cell_type": "code",
   "execution_count": 15,
   "metadata": {},
   "outputs": [],
   "source": [
    "df_ar.drop([\"last\",\"total\",\"qt\"],axis=1,inplace=True)"
   ]
  },
  {
   "cell_type": "code",
   "execution_count": 16,
   "metadata": {},
   "outputs": [
    {
     "data": {
      "text/html": [
       "<div>\n",
       "<style scoped>\n",
       "    .dataframe tbody tr th:only-of-type {\n",
       "        vertical-align: middle;\n",
       "    }\n",
       "\n",
       "    .dataframe tbody tr th {\n",
       "        vertical-align: top;\n",
       "    }\n",
       "\n",
       "    .dataframe thead th {\n",
       "        text-align: right;\n",
       "    }\n",
       "</style>\n",
       "<table border=\"1\" class=\"dataframe\">\n",
       "  <thead>\n",
       "    <tr style=\"text-align: right;\">\n",
       "      <th></th>\n",
       "      <th>Date</th>\n",
       "      <th>close</th>\n",
       "    </tr>\n",
       "  </thead>\n",
       "  <tbody>\n",
       "    <tr>\n",
       "      <td>1</td>\n",
       "      <td>2019-03-13</td>\n",
       "      <td>244.30</td>\n",
       "    </tr>\n",
       "    <tr>\n",
       "      <td>2</td>\n",
       "      <td>2019-03-14</td>\n",
       "      <td>249.85</td>\n",
       "    </tr>\n",
       "    <tr>\n",
       "      <td>3</td>\n",
       "      <td>2019-03-15</td>\n",
       "      <td>245.05</td>\n",
       "    </tr>\n",
       "    <tr>\n",
       "      <td>4</td>\n",
       "      <td>2019-03-18</td>\n",
       "      <td>245.95</td>\n",
       "    </tr>\n",
       "    <tr>\n",
       "      <td>5</td>\n",
       "      <td>2019-03-19</td>\n",
       "      <td>248.80</td>\n",
       "    </tr>\n",
       "  </tbody>\n",
       "</table>\n",
       "</div>"
      ],
      "text/plain": [
       "        Date   close\n",
       "1 2019-03-13  244.30\n",
       "2 2019-03-14  249.85\n",
       "3 2019-03-15  245.05\n",
       "4 2019-03-18  245.95\n",
       "5 2019-03-19  248.80"
      ]
     },
     "execution_count": 16,
     "metadata": {},
     "output_type": "execute_result"
    }
   ],
   "source": [
    "df_ar.head()"
   ]
  },
  {
   "cell_type": "code",
   "execution_count": 17,
   "metadata": {},
   "outputs": [],
   "source": [
    "df_ar.to_csv(\"yesbank.csv\")"
   ]
  },
  {
   "cell_type": "code",
   "execution_count": 18,
   "metadata": {},
   "outputs": [],
   "source": [
    "from pandas import datetime\n",
    "\n",
    "df=pd.read_csv(\"yesbank.csv\",date_parser=\"Date\",parse_dates=True)"
   ]
  },
  {
   "cell_type": "code",
   "execution_count": 29,
   "metadata": {},
   "outputs": [
    {
     "data": {
      "text/html": [
       "<div>\n",
       "<style scoped>\n",
       "    .dataframe tbody tr th:only-of-type {\n",
       "        vertical-align: middle;\n",
       "    }\n",
       "\n",
       "    .dataframe tbody tr th {\n",
       "        vertical-align: top;\n",
       "    }\n",
       "\n",
       "    .dataframe thead th {\n",
       "        text-align: right;\n",
       "    }\n",
       "</style>\n",
       "<table border=\"1\" class=\"dataframe\">\n",
       "  <thead>\n",
       "    <tr style=\"text-align: right;\">\n",
       "      <th></th>\n",
       "      <th>Date</th>\n",
       "      <th>close</th>\n",
       "    </tr>\n",
       "  </thead>\n",
       "  <tbody>\n",
       "    <tr>\n",
       "      <td>0</td>\n",
       "      <td>2019-03-13</td>\n",
       "      <td>244.30</td>\n",
       "    </tr>\n",
       "    <tr>\n",
       "      <td>1</td>\n",
       "      <td>2019-03-14</td>\n",
       "      <td>249.85</td>\n",
       "    </tr>\n",
       "    <tr>\n",
       "      <td>2</td>\n",
       "      <td>2019-03-15</td>\n",
       "      <td>245.05</td>\n",
       "    </tr>\n",
       "    <tr>\n",
       "      <td>3</td>\n",
       "      <td>2019-03-18</td>\n",
       "      <td>245.95</td>\n",
       "    </tr>\n",
       "    <tr>\n",
       "      <td>4</td>\n",
       "      <td>2019-03-19</td>\n",
       "      <td>248.80</td>\n",
       "    </tr>\n",
       "  </tbody>\n",
       "</table>\n",
       "</div>"
      ],
      "text/plain": [
       "         Date   close\n",
       "0  2019-03-13  244.30\n",
       "1  2019-03-14  249.85\n",
       "2  2019-03-15  245.05\n",
       "3  2019-03-18  245.95\n",
       "4  2019-03-19  248.80"
      ]
     },
     "execution_count": 29,
     "metadata": {},
     "output_type": "execute_result"
    }
   ],
   "source": [
    "df.head()"
   ]
  },
  {
   "cell_type": "code",
   "execution_count": 40,
   "metadata": {},
   "outputs": [],
   "source": [
    "df=df.set_index(\"Date\")"
   ]
  },
  {
   "cell_type": "code",
   "execution_count": 41,
   "metadata": {},
   "outputs": [
    {
     "data": {
      "text/plain": [
       "<matplotlib.axes._subplots.AxesSubplot at 0x205b9040188>"
      ]
     },
     "execution_count": 41,
     "metadata": {},
     "output_type": "execute_result"
    },
    {
     "data": {
      "image/png": "[encoded data removed]",
      "text/plain": [
       "<Figure size 432x288 with 1 Axes>"
      ]
     },
     "metadata": {
      "needs_background": "light"
     },
     "output_type": "display_data"
    }
   ],
   "source": [
    "df.plot()"
   ]
  },
  {
   "cell_type": "code",
   "execution_count": 42,
   "metadata": {},
   "outputs": [
    {
     "data": {
      "image/png": "[encoded data removed]",
      "text/plain": [
       "<Figure size 432x288 with 1 Axes>"
      ]
     },
     "execution_count": 42,
     "metadata": {},
     "output_type": "execute_result"
    },
    {
     "data": {
      "image/png": "[encoded data removed]",
      "text/plain": [
       "<Figure size 432x288 with 1 Axes>"
      ]
     },
     "metadata": {
      "needs_background": "light"
     },
     "output_type": "display_data"
    }
   ],
   "source": [
    "from statsmodels.graphics.tsaplots import plot_acf\n",
    "plot_acf(df)"
   ]
  },
  {
   "cell_type": "code",
   "execution_count": 43,
   "metadata": {},
   "outputs": [],
   "source": [
    "df_diff=df[\"close\"].diff(periods=1)"
   ]
  },
  {
   "cell_type": "code",
   "execution_count": 44,
   "metadata": {},
   "outputs": [],
   "source": [
    "df_diff=df_diff[1:]"
   ]
  },
  {
   "cell_type": "code",
   "execution_count": 45,
   "metadata": {},
   "outputs": [
    {
     "data": {
      "text/plain": [
       "Date\n",
       "2019-03-14    5.55\n",
       "2019-03-15   -4.80\n",
       "2019-03-18    0.90\n",
       "2019-03-19    2.85\n",
       "2019-03-20    3.35\n",
       "Name: close, dtype: float64"
      ]
     },
     "execution_count": 45,
     "metadata": {},
     "output_type": "execute_result"
    }
   ],
   "source": [
    "df_diff.head()"
   ]
  },
  {
   "cell_type": "code",
   "execution_count": 46,
   "metadata": {},
   "outputs": [
    {
     "data": {
      "image/png": "[encoded data removed]",
      "text/plain": [
       "<Figure size 432x288 with 1 Axes>"
      ]
     },
     "execution_count": 46,
     "metadata": {},
     "output_type": "execute_result"
    },
    {
     "data": {
      "image/png": "[encoded data removed]",
      "text/plain": [
       "<Figure size 432x288 with 1 Axes>"
      ]
     },
     "metadata": {
      "needs_background": "light"
     },
     "output_type": "display_data"
    }
   ],
   "source": [
    "plot_acf(df_diff)"
   ]
  },
  {
   "cell_type": "code",
   "execution_count": 47,
   "metadata": {},
   "outputs": [
    {
     "data": {
      "text/plain": [
       "<matplotlib.axes._subplots.AxesSubplot at 0x205b9b9b808>"
      ]
     },
     "execution_count": 47,
     "metadata": {},
     "output_type": "execute_result"
    },
    {
     "data": {
      "image/png": "[encoded data removed]",
      "text/plain": [
       "<Figure size 432x288 with 1 Axes>"
      ]
     },
     "metadata": {
      "needs_background": "light"
     },
     "output_type": "display_data"
    }
   ],
   "source": [
    "df_diff.plot()"
   ]
  },
  {
   "cell_type": "code",
   "execution_count": 55,
   "metadata": {},
   "outputs": [],
   "source": [
    "df_diff.shape\n",
    "\n",
    "X=df_diff.values\n",
    "train=X[0:205]\n",
    "test=X[205:]\n",
    "predictions=[]"
   ]
  },
  {
   "cell_type": "code",
   "execution_count": 56,
   "metadata": {},
   "outputs": [],
   "source": [
    "from statsmodels.tsa.arima_model import ARIMA"
   ]
  },
  {
   "cell_type": "code",
   "execution_count": 57,
   "metadata": {},
   "outputs": [
    {
     "name": "stdout",
     "output_type": "stream",
     "text": [
      "1399.6577912244684\n"
     ]
    }
   ],
   "source": [
    "model_arima = ARIMA(train, order=(4, 2, 1))\n",
    "model_arima_fit = model_arima.fit()\n",
    "print(model_arima_fit.aic)"
   ]
  },
  {
   "cell_type": "code",
   "execution_count": 65,
   "metadata": {},
   "outputs": [
    {
     "data": {
      "text/plain": [
       "array([-0.52767284, -1.21893685, -2.37482929, -2.21286388, -1.98620512,\n",
       "       -1.39094162, -1.78391861, -2.03885939, -1.87732403, -1.74524012,\n",
       "       -1.674541  , -1.80871079, -1.82725737, -1.74378239, -1.70371709,\n",
       "       -1.70467569, -1.7299168 , -1.70834165, -1.67146587, -1.65700977,\n",
       "       -1.65284469, -1.64499003, -1.62366133, -1.6034327 , -1.59082496,\n",
       "       -1.57872032, -1.56314584, -1.54480378, -1.52817368, -1.51326087,\n",
       "       -1.49742962, -1.48023389, -1.462695  , -1.44576098, -1.4288858 ,\n",
       "       -1.41137316, -1.39340066, -1.37536381, -1.35734502])"
      ]
     },
     "execution_count": 65,
     "metadata": {},
     "output_type": "execute_result"
    }
   ],
   "source": [
    "predictions = model_arima_fit.forecast(steps=39)[0]\n",
    "predictions"
   ]
  },
  {
   "cell_type": "code",
   "execution_count": 66,
   "metadata": {},
   "outputs": [
    {
     "data": {
      "text/plain": [
       "[<matplotlib.lines.Line2D at 0x205bd61bcc8>]"
      ]
     },
     "execution_count": 66,
     "metadata": {},
     "output_type": "execute_result"
    },
    {
     "data": {
      "image/png": "[encoded data removed]",
      "text/plain": [
       "<Figure size 432x288 with 1 Axes>"
      ]
     },
     "metadata": {
      "needs_background": "light"
     },
     "output_type": "display_data"
    }
   ],
   "source": [
    "plt.plot(test)\n",
    "plt.plot(predictions, color='red')\n"
   ]
  },
  {
   "cell_type": "code",
   "execution_count": 67,
   "metadata": {},
   "outputs": [
    {
     "data": {
      "text/plain": [
       "16.202648154060647"
      ]
     },
     "execution_count": 67,
     "metadata": {},
     "output_type": "execute_result"
    }
   ],
   "source": [
    "from sklearn.metrics import mean_squared_error\n",
    "mean_squared_error(test,predictions)"
   ]
  },
  {
   "cell_type": "code",
   "execution_count": 70,
   "metadata": {},
   "outputs": [
    {
     "name": "stdout",
     "output_type": "stream",
     "text": [
      "(0, 0, 0) 1375.9808911817088\n",
      "(0, 0, 1) 1377.6211083349258\n",
      "(0, 0, 2) 1378.9697791356198\n",
      "(0, 0, 3) 1380.579712736614\n",
      "(0, 0, 4) 1381.2527478092254\n",
      "(0, 1, 0) 1519.012969061935\n",
      "(0, 1, 1) 1376.276448625657\n",
      "(0, 2, 0) 1733.3499293438717\n",
      "(0, 2, 1) 1519.899702910795\n",
      "(1, 0, 0) 1377.6666173932208\n",
      "(1, 1, 0) 1465.9450139754981\n",
      "(1, 1, 1) 1377.9122074778656\n",
      "(1, 1, 2) 1379.6234876874128\n",
      "(1, 1, 3) 1380.6499746955342\n",
      "(1, 1, 4) 1382.5998524705979\n",
      "(1, 2, 0) 1626.17026481397\n",
      "(2, 0, 0) 1378.807253457418\n",
      "(2, 0, 1) 1380.8014389243117\n",
      "(2, 0, 2) 1382.3551362161675\n",
      "(2, 1, 0) 1436.8600886723402\n",
      "(2, 1, 1) 1378.9473725404646\n",
      "(2, 1, 2) 1380.7368891999213\n",
      "(2, 1, 3) 1382.096370623217\n",
      "(2, 1, 4) 1382.3820017216194\n",
      "(2, 2, 0) 1570.6205503179485\n",
      "(3, 0, 0) 1380.7888170352371\n",
      "(3, 0, 1) 1380.210235816076\n",
      "(3, 0, 2) 1379.318105317303\n",
      "(3, 1, 0) 1416.3753250706782\n",
      "(3, 1, 1) 1380.9432860662582\n",
      "(3, 1, 2) 1382.5772460503904\n",
      "(3, 1, 3) 1375.3676792325023\n",
      "(3, 1, 4) 1381.1332740014411\n",
      "(3, 2, 0) 1537.275880777243\n",
      "(3, 2, 4) 1385.5683929256757\n",
      "(4, 0, 0) 1381.5241053492036\n",
      "(4, 0, 1) 1380.3441056831778\n",
      "(4, 0, 2) 1382.0296116915094\n",
      "(4, 0, 3) 1383.1939804202564\n",
      "(4, 1, 0) 1395.5907258749153\n",
      "(4, 1, 1) 1381.8205140064606\n",
      "(4, 1, 2) 1385.7489195652774\n",
      "(4, 1, 3) 1383.1039951597354\n",
      "(4, 1, 4) 1382.934795753067\n",
      "(4, 2, 0) 1485.3074321299418\n",
      "(4, 2, 1) 1399.6577912244684\n"
     ]
    }
   ],
   "source": [
    "import itertools\n",
    "p=q=d=range(0,5)\n",
    "pdq = list(itertools.product(p,q,d))\n",
    "\n",
    "import warnings\n",
    "warnings.filterwarnings('ignore')\n",
    "for param in pdq:\n",
    "    try:\n",
    "        model_arima = ARIMA(train, order=param)\n",
    "        model_arima_fit = model_arima.fit()\n",
    "        print(param,model_arima_fit.aic)\n",
    "    except:\n",
    "        continue"
   ]
  },
  {
   "cell_type": "code",
   "execution_count": null,
   "metadata": {},
   "outputs": [],
   "source": []
  }
 ],
 "metadata": {
  "kernelspec": {
   "display_name": "Python 3",
   "language": "python",
   "name": "python3"
  },
  "language_info": {
   "codemirror_mode": {
    "name": "ipython",
    "version": 3
   },
   "file_extension": ".py",
   "mimetype": "text/x-python",
   "name": "python",
   "nbconvert_exporter": "python",
   "pygments_lexer": "ipython3",
   "version": "3.7.4"
  }
 },
 "nbformat": 4,
 "nbformat_minor": 2
}
